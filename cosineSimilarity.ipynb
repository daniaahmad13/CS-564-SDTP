{
 "cells": [
  {
   "cell_type": "code",
   "execution_count": 6,
   "id": "b6a5e2b9",
   "metadata": {},
   "outputs": [],
   "source": [
    "from sklearn.feature_extraction.text import TfidfVectorizer\n",
    "from sklearn.metrics.pairwise import cosine_similarity\n",
    "import os"
   ]
  },
  {
   "cell_type": "code",
   "execution_count": 2,
   "id": "63016f50",
   "metadata": {},
   "outputs": [],
   "source": [
    "def read_text_file(file_path):\n",
    "    with open(file_path, 'r') as f:\n",
    "        return f.read()\n",
    "count=1\n",
    "file_data = []\n",
    "path = \"./download_music/\"\n",
    "# iterate through all file\n",
    "for file in os.listdir(path):\n",
    "    # Check whether file is in text format or not\n",
    "    if file.endswith(\".txt\"):\n",
    "        file_path = f\"{path}/{count}.txt\"\n",
    "        count+=1\n",
    "        file_data.append(read_text_file(file_path))\n",
    "        "
   ]
  },
  {
   "cell_type": "code",
   "execution_count": 10,
   "id": "f31e6858",
   "metadata": {},
   "outputs": [
    {
     "name": "stdout",
     "output_type": "stream",
     "text": [
      "[[1.         0.50091066 0.1183023  0.66481171 0.02492463 0.07421496\n",
      "  0.07421496 0.30363596 0.02188375 0.11978118 0.01505064]\n",
      " [0.50091066 1.         0.01613134 0.47851921 0.37481115 0.0225983\n",
      "  0.0225983  0.22308884 0.00899085 0.08559178 0.        ]\n",
      " [0.1183023  0.01613134 1.         0.01975171 0.02329301 0.20226882\n",
      "  0.20226882 0.13606505 0.17473547 0.13453089 0.00654681]\n",
      " [0.66481171 0.47851921 0.01975171 1.         0.01480024 0.01796486\n",
      "  0.01796486 0.16506843 0.02458789 0.04863099 0.01601744]\n",
      " [0.02492463 0.37481115 0.02329301 0.01480024 1.         0.03866737\n",
      "  0.03866737 0.01768306 0.00678706 0.00689274 0.03881503]\n",
      " [0.07421496 0.0225983  0.20226882 0.01796486 0.03866737 1.\n",
      "  1.         0.04102111 0.0287391  0.02003897 0.0222342 ]\n",
      " [0.07421496 0.0225983  0.20226882 0.01796486 0.03866737 1.\n",
      "  1.         0.04102111 0.0287391  0.02003897 0.0222342 ]\n",
      " [0.30363596 0.22308884 0.13606505 0.16506843 0.01768306 0.04102111\n",
      "  0.04102111 1.         0.13125584 0.02437233 0.        ]\n",
      " [0.02188375 0.00899085 0.17473547 0.02458789 0.00678706 0.0287391\n",
      "  0.0287391  0.13125584 1.         0.08446185 0.        ]\n",
      " [0.11978118 0.08559178 0.13453089 0.04863099 0.00689274 0.02003897\n",
      "  0.02003897 0.02437233 0.08446185 1.         0.        ]\n",
      " [0.01505064 0.         0.00654681 0.01601744 0.03881503 0.0222342\n",
      "  0.0222342  0.         0.         0.         1.        ]]\n",
      "\n",
      "\n",
      "\n",
      "\n",
      "\n",
      "  (0, 10)\t0.015050635628939248\n",
      "  (0, 6)\t0.07421495596535446\n",
      "  (0, 5)\t0.07421495596535446\n",
      "  (0, 4)\t0.024924625301954384\n",
      "  (0, 9)\t0.11978118028914622\n",
      "  (0, 8)\t0.021883750973440665\n",
      "  (0, 2)\t0.11830229560239666\n",
      "  (0, 7)\t0.3036359570869509\n",
      "  (0, 3)\t0.6648117120804978\n",
      "  (0, 1)\t0.5009106647510263\n",
      "  (0, 0)\t0.9999999999999999\n",
      "  (1, 8)\t0.008990853300808834\n",
      "  (1, 9)\t0.08559177520816334\n",
      "  (1, 6)\t0.02259830280106167\n",
      "  (1, 5)\t0.02259830280106167\n",
      "  (1, 2)\t0.0161313374694361\n",
      "  (1, 0)\t0.5009106647510263\n",
      "  (1, 7)\t0.2230888389594319\n",
      "  (1, 4)\t0.3748111487743679\n",
      "  (1, 3)\t0.47851920748462173\n",
      "  (1, 1)\t1.0\n",
      "  (2, 10)\t0.0065468066958075544\n",
      "  (2, 4)\t0.02329300701730847\n",
      "  (2, 3)\t0.01975170954805357\n",
      "  (2, 1)\t0.0161313374694361\n",
      "  :\t:\n",
      "  (8, 0)\t0.021883750973440665\n",
      "  (8, 6)\t0.02873910103859363\n",
      "  (8, 5)\t0.02873910103859363\n",
      "  (8, 2)\t0.17473547230645917\n",
      "  (8, 3)\t0.02458789356499325\n",
      "  (8, 7)\t0.13125583703971752\n",
      "  (8, 9)\t0.08446185397414104\n",
      "  (8, 8)\t1.0000000000000002\n",
      "  (9, 7)\t0.024372325375293897\n",
      "  (9, 4)\t0.006892743842949123\n",
      "  (9, 3)\t0.04863098870101776\n",
      "  (9, 1)\t0.08559177520816334\n",
      "  (9, 0)\t0.11978118028914622\n",
      "  (9, 2)\t0.13453089226701703\n",
      "  (9, 6)\t0.02003897179788873\n",
      "  (9, 5)\t0.02003897179788873\n",
      "  (9, 8)\t0.08446185397414104\n",
      "  (9, 9)\t1.0000000000000004\n",
      "  (10, 6)\t0.022234200497062224\n",
      "  (10, 5)\t0.022234200497062224\n",
      "  (10, 4)\t0.03881502961482894\n",
      "  (10, 3)\t0.016017435720564247\n",
      "  (10, 2)\t0.0065468066958075544\n",
      "  (10, 0)\t0.015050635628939248\n",
      "  (10, 10)\t1.0\n"
     ]
    }
   ],
   "source": [
    "\n",
    "tfidf = TfidfVectorizer().fit_transform(file_data)\n",
    "\n",
    "# no need to normalize, since Vectorizer will return normalized tf-idf\n",
    "pairwise_similarity = tfidf * tfidf.T\n",
    "print(cosine_similarity(tfidf, tfidf))"
   ]
  },
  {
   "cell_type": "code",
   "execution_count": 55,
   "id": "7ec1af6b",
   "metadata": {},
   "outputs": [
    {
     "data": {
      "text/plain": [
       "array([[1.        , 0.50091066, 0.1183023 , 0.66481171, 0.02492463,\n",
       "        0.07421496, 0.07421496, 0.30363596, 0.02188375, 0.11978118,\n",
       "        0.01505064],\n",
       "       [0.50091066, 1.        , 0.01613134, 0.47851921, 0.37481115,\n",
       "        0.0225983 , 0.0225983 , 0.22308884, 0.00899085, 0.08559178,\n",
       "        0.        ],\n",
       "       [0.1183023 , 0.01613134, 1.        , 0.01975171, 0.02329301,\n",
       "        0.20226882, 0.20226882, 0.13606505, 0.17473547, 0.13453089,\n",
       "        0.00654681],\n",
       "       [0.66481171, 0.47851921, 0.01975171, 1.        , 0.01480024,\n",
       "        0.01796486, 0.01796486, 0.16506843, 0.02458789, 0.04863099,\n",
       "        0.01601744],\n",
       "       [0.02492463, 0.37481115, 0.02329301, 0.01480024, 1.        ,\n",
       "        0.03866737, 0.03866737, 0.01768306, 0.00678706, 0.00689274,\n",
       "        0.03881503],\n",
       "       [0.07421496, 0.0225983 , 0.20226882, 0.01796486, 0.03866737,\n",
       "        1.        , 1.        , 0.04102111, 0.0287391 , 0.02003897,\n",
       "        0.0222342 ],\n",
       "       [0.07421496, 0.0225983 , 0.20226882, 0.01796486, 0.03866737,\n",
       "        1.        , 1.        , 0.04102111, 0.0287391 , 0.02003897,\n",
       "        0.0222342 ],\n",
       "       [0.30363596, 0.22308884, 0.13606505, 0.16506843, 0.01768306,\n",
       "        0.04102111, 0.04102111, 1.        , 0.13125584, 0.02437233,\n",
       "        0.        ],\n",
       "       [0.02188375, 0.00899085, 0.17473547, 0.02458789, 0.00678706,\n",
       "        0.0287391 , 0.0287391 , 0.13125584, 1.        , 0.08446185,\n",
       "        0.        ],\n",
       "       [0.11978118, 0.08559178, 0.13453089, 0.04863099, 0.00689274,\n",
       "        0.02003897, 0.02003897, 0.02437233, 0.08446185, 1.        ,\n",
       "        0.        ],\n",
       "       [0.01505064, 0.        , 0.00654681, 0.01601744, 0.03881503,\n",
       "        0.0222342 , 0.0222342 , 0.        , 0.        , 0.        ,\n",
       "        1.        ]])"
      ]
     },
     "execution_count": 55,
     "metadata": {},
     "output_type": "execute_result"
    }
   ],
   "source": [
    "pairwise_similarity.toarray()"
   ]
  },
  {
   "cell_type": "code",
   "execution_count": 56,
   "id": "f2efc05e",
   "metadata": {},
   "outputs": [],
   "source": [
    "## cosine similarity"
   ]
  },
  {
   "cell_type": "code",
   "execution_count": 85,
   "id": "8b2dd0ba",
   "metadata": {},
   "outputs": [
    {
     "name": "stdout",
     "output_type": "stream",
     "text": [
      "Cosine similarity of file 1.txt with query file.txt is :  0.04029114820126901\n",
      "Cosine similarity of file 2.txt with query file.txt is :  0.0\n",
      "Cosine similarity of file 3.txt with query file.txt is :  0.0\n",
      "Cosine similarity of file 4.txt with query file.txt is :  0.043193421279068\n",
      "Cosine similarity of file 5.txt with query file.txt is :  0.11043152607484653\n",
      "Cosine similarity of file 6.txt with query file.txt is :  0.04632410546120795\n",
      "Cosine similarity of file 7.txt with query file.txt is :  0.04632410546120795\n",
      "Cosine similarity of file 8.txt with query file.txt is :  0.0\n",
      "Cosine similarity of file 9.txt with query file.txt is :  0.0\n",
      "Cosine similarity of file 10.txt with query file.txt is :  0.0\n"
     ]
    }
   ],
   "source": [
    "import math\n",
    "import re\n",
    "from collections import Counter\n",
    "\n",
    "WORD = re.compile(r\"\\w+\")\n",
    "cos_similarity_with_query ={}\n",
    "\n",
    "def get_cosine(vec1, vec2):\n",
    "    intersection = set(vec1.keys()) & set(vec2.keys())\n",
    "    numerator = sum([vec1[x] * vec2[x] for x in intersection])\n",
    "    sum1 = sum([vec1[x] ** 2 for x in list(vec1.keys())])\n",
    "    sum2 = sum([vec2[x] ** 2 for x in list(vec2.keys())])\n",
    "    denominator = math.sqrt(sum1) * math.sqrt(sum2)\n",
    "\n",
    "    if not denominator:\n",
    "        return 0.0\n",
    "    else:\n",
    "        return float(numerator) / denominator\n",
    "\n",
    "def text_to_vector(text):\n",
    "    words = WORD.findall(text)\n",
    "    return Counter(words)\n",
    "\n",
    "for i in range(len(file_data)):\n",
    "    j = i+1\n",
    "    while(j < len(file_data)):\n",
    "        text1 = file_data[i]\n",
    "        text2 = file_data[j]\n",
    "        vector1 = text_to_vector(text1)\n",
    "        vector2 = text_to_vector(text2)\n",
    "        cosine = get_cosine(vector1, vector2)\n",
    "        if j ==10: ## query file\n",
    "            cos_similarity_with_query[i+1] = cosine\n",
    "            print(\"Cosine similarity of file \"+ str(i+1) +\".txt with query file.txt is : \",cosine)\n",
    "            cos_similarity_with_query[i+1] = cosine\n",
    "        j+=1\n"
   ]
  },
  {
   "cell_type": "code",
   "execution_count": 86,
   "id": "49e97a80",
   "metadata": {},
   "outputs": [
    {
     "data": {
      "text/plain": [
       "{5: 0.11043152607484653,\n",
       " 6: 0.04632410546120795,\n",
       " 7: 0.04632410546120795,\n",
       " 4: 0.043193421279068,\n",
       " 1: 0.04029114820126901,\n",
       " 2: 0.0,\n",
       " 3: 0.0,\n",
       " 8: 0.0,\n",
       " 9: 0.0,\n",
       " 10: 0.0}"
      ]
     },
     "execution_count": 86,
     "metadata": {},
     "output_type": "execute_result"
    }
   ],
   "source": [
    "\n",
    "dict(sorted(cos_similarity_with_query.items(), key=lambda item: item[1], reverse= True))"
   ]
  },
  {
   "cell_type": "code",
   "execution_count": 76,
   "id": "444d861a",
   "metadata": {},
   "outputs": [],
   "source": [
    "## jaccard similarity"
   ]
  },
  {
   "cell_type": "code",
   "execution_count": 77,
   "id": "8a4e80b0",
   "metadata": {},
   "outputs": [],
   "source": [
    "def jaccard_similarity(list1, list2):\n",
    "    intersection = len(list(set(list1).intersection(list2)))\n",
    "    union = (len(set(list1)) + len(set(list2))) - intersection\n",
    "    return float(intersection) / union"
   ]
  },
  {
   "cell_type": "code",
   "execution_count": 79,
   "id": "2bc23fe6",
   "metadata": {},
   "outputs": [
    {
     "name": "stdout",
     "output_type": "stream",
     "text": [
      "Jaccard similarity of file 1.txt with query file.txt is :  0.16393442622950818\n",
      "Jaccard similarity of file 2.txt with query file.txt is :  0.18867924528301888\n",
      "Jaccard similarity of file 3.txt with query file.txt is :  0.13513513513513514\n",
      "Jaccard similarity of file 4.txt with query file.txt is :  0.11904761904761904\n",
      "Jaccard similarity of file 5.txt with query file.txt is :  0.21951219512195122\n",
      "Jaccard similarity of file 6.txt with query file.txt is :  0.10204081632653061\n",
      "Jaccard similarity of file 7.txt with query file.txt is :  0.10204081632653061\n",
      "Jaccard similarity of file 8.txt with query file.txt is :  0.17857142857142858\n",
      "Jaccard similarity of file 9.txt with query file.txt is :  0.15517241379310345\n",
      "Jaccard similarity of file 10.txt with query file.txt is :  0.19230769230769232\n"
     ]
    }
   ],
   "source": [
    "jacc_similarity_with_query = {}\n",
    "for i in range(len(file_data)):\n",
    "    j = i+1\n",
    "    while(j < len(file_data)):\n",
    "        \n",
    "        text1 = file_data[i]\n",
    "        text2 = file_data[j]\n",
    "\n",
    "\n",
    "        jacc = jaccard_similarity(text1, text2)\n",
    "        if j ==10: ## query file\n",
    "            jacc_similarity_with_query[i+1] = jacc\n",
    "            print(\"Jaccard similarity of file \"+ str(i+1) +\".txt with query file.txt is : \",jacc)\n",
    "            jacc_similarity_with_query[i+1] = jacc\n",
    "            \n",
    "        j+=1\n"
   ]
  },
  {
   "cell_type": "code",
   "execution_count": 83,
   "id": "0a1b4d7f",
   "metadata": {},
   "outputs": [
    {
     "data": {
      "text/plain": [
       "{5: 0.21951219512195122,\n",
       " 10: 0.19230769230769232,\n",
       " 2: 0.18867924528301888,\n",
       " 8: 0.17857142857142858,\n",
       " 1: 0.16393442622950818,\n",
       " 9: 0.15517241379310345,\n",
       " 3: 0.13513513513513514,\n",
       " 4: 0.11904761904761904,\n",
       " 6: 0.10204081632653061,\n",
       " 7: 0.10204081632653061}"
      ]
     },
     "execution_count": 83,
     "metadata": {},
     "output_type": "execute_result"
    }
   ],
   "source": [
    "\n",
    "dict(sorted(jacc_similarity_with_query.items(), key=lambda item: item[1], reverse= True))"
   ]
  },
  {
   "cell_type": "code",
   "execution_count": null,
   "id": "6b9aaf6e",
   "metadata": {},
   "outputs": [],
   "source": []
  }
 ],
 "metadata": {
  "kernelspec": {
   "display_name": "Python 3",
   "language": "python",
   "name": "python3"
  },
  "language_info": {
   "codemirror_mode": {
    "name": "ipython",
    "version": 3
   },
   "file_extension": ".py",
   "mimetype": "text/x-python",
   "name": "python",
   "nbconvert_exporter": "python",
   "pygments_lexer": "ipython3",
   "version": "3.6.9"
  }
 },
 "nbformat": 4,
 "nbformat_minor": 5
}
